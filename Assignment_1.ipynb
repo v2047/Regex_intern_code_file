{
  "nbformat": 4,
  "nbformat_minor": 0,
  "metadata": {
    "colab": {
      "name": "Assignment 1",
      "provenance": [],
      "authorship_tag": "ABX9TyOU+iEuoJ2S04VpCTc3neWZ",
      "include_colab_link": true
    },
    "kernelspec": {
      "name": "python3",
      "display_name": "Python 3"
    },
    "language_info": {
      "name": "python"
    }
  },
  "cells": [
    {
      "cell_type": "markdown",
      "metadata": {
        "id": "view-in-github",
        "colab_type": "text"
      },
      "source": [
        "<a href=\"https://colab.research.google.com/github/v2047/Regex_intern_code_file/blob/main/Assignment_1.ipynb\" target=\"_parent\"><img src=\"https://colab.research.google.com/assets/colab-badge.svg\" alt=\"Open In Colab\"/></a>"
      ]
    },
    {
      "cell_type": "markdown",
      "metadata": {
        "id": "MyhmqEkuNMGm"
      },
      "source": [
        "**1**"
      ]
    },
    {
      "cell_type": "code",
      "metadata": {
        "id": "ZsB-Ndajf7C3"
      },
      "source": [
        ""
      ],
      "execution_count": null,
      "outputs": []
    },
    {
      "cell_type": "code",
      "metadata": {
        "id": "A6T470FTNOwf"
      },
      "source": [
        "n = int(input())\n",
        "for i in range(n,0,-1):\n",
        "    for j in range(0,i):\n",
        "        print(\"5\",end=\" \")\n",
        "    print(\" \")"
      ],
      "execution_count": null,
      "outputs": []
    },
    {
      "cell_type": "markdown",
      "metadata": {
        "id": "2LOI2jUzcldv"
      },
      "source": [
        "**2**"
      ]
    },
    {
      "cell_type": "code",
      "metadata": {
        "id": "KCsuCPEiblFX"
      },
      "source": [
        "\n",
        "n = int(input())\n",
        "for i in range(n,0,-1):\n",
        "    for j in range(0,i+1):\n",
        "        print(j,end=\" \")\n",
        "    print(\" \")\n"
      ],
      "execution_count": null,
      "outputs": []
    },
    {
      "cell_type": "markdown",
      "metadata": {
        "id": "EPT6RHclgkig"
      },
      "source": [
        "**3**"
      ]
    },
    {
      "cell_type": "code",
      "metadata": {
        "id": "FJtjjUk4gq2K"
      },
      "source": [
        "n = int(input())\n",
        "i =1\n",
        "while i<=n:\n",
        "  j=1\n",
        "  while j<=i:\n",
        "    print((i*2)-1,end=\"\")\n",
        "    j = j+1\n",
        "  i = i+1\n",
        "  print()\n",
        "\n",
        "\n",
        "\n"
      ],
      "execution_count": null,
      "outputs": []
    },
    {
      "cell_type": "markdown",
      "metadata": {
        "id": "5P6tKQEfkBcn"
      },
      "source": [
        "**4**"
      ]
    },
    {
      "cell_type": "code",
      "metadata": {
        "id": "FcwlA22ukE4E"
      },
      "source": [
        "n = int(input())\n",
        "for i in range(0,n):\n",
        "  for j in range(i+1,0,-1):\n",
        "    print(j, end=\" \")\n",
        "  print(\"\")"
      ],
      "execution_count": null,
      "outputs": []
    },
    {
      "cell_type": "markdown",
      "metadata": {
        "id": "fNvwYxQLaMRh"
      },
      "source": [
        "**5**"
      ]
    },
    {
      "cell_type": "code",
      "metadata": {
        "id": "dnqYRQhGaN-v"
      },
      "source": [
        "n = int(input())\n",
        "a = 0\n",
        "for i in range (1,n+1):\n",
        "  a+=i\n",
        "  k = a\n",
        "  for j in range(i):\n",
        "    print(k,end=\" \")\n",
        "    k-=1\n",
        "  print()\n"
      ],
      "execution_count": null,
      "outputs": []
    },
    {
      "cell_type": "markdown",
      "metadata": {
        "id": "yEYSbqg-c9yS"
      },
      "source": [
        "**6**"
      ]
    },
    {
      "cell_type": "code",
      "metadata": {
        "id": "BA4FCPWpdETm"
      },
      "source": [
        "n = int(input())\n",
        "for i in range(1,n):\n",
        "  for j in range(1,i+1):\n",
        "    print(i * j, end=\" \")\n",
        "  print()"
      ],
      "execution_count": null,
      "outputs": []
    },
    {
      "cell_type": "markdown",
      "metadata": {
        "id": "__jGTQPfdHgf"
      },
      "source": [
        "**7**"
      ]
    },
    {
      "cell_type": "code",
      "metadata": {
        "id": "CgxPFD_jdJBd"
      },
      "source": [
        "n = int(input())\n",
        "for i in range(0,n):\n",
        "  k=1\n",
        "  for j in range(1,n):\n",
        "    if j <= i:\n",
        "      print(i, end=' ')\n",
        "    else:\n",
        "        print(j, end=' ')\n",
        "  print()\n",
        "\n",
        "\n",
        "\n",
        "   "
      ],
      "execution_count": null,
      "outputs": []
    },
    {
      "cell_type": "markdown",
      "metadata": {
        "id": "rAVG-y9wab3X"
      },
      "source": [
        "**8**"
      ]
    },
    {
      "cell_type": "code",
      "metadata": {
        "id": "7IrmxRsVc8Ii"
      },
      "source": [
        ""
      ],
      "execution_count": null,
      "outputs": []
    },
    {
      "cell_type": "code",
      "metadata": {
        "id": "0HJQKY4gadl9"
      },
      "source": [
        "n = int(input())\n",
        "for i in range(1,n):\n",
        "  for j in range(1,i+1):\n",
        "    print(i * j, end=\" \")\n",
        "  print()"
      ],
      "execution_count": null,
      "outputs": []
    },
    {
      "cell_type": "markdown",
      "metadata": {
        "id": "wfeLhb7EcScg"
      },
      "source": [
        "**9**"
      ]
    },
    {
      "cell_type": "code",
      "metadata": {
        "id": "qI-o5lWdcYrq"
      },
      "source": [
        "n = int(input()) \n",
        "k = 2 * n - 2  \n",
        "for i in range(n, -1, -1):   \n",
        "  for j in range(k, 0, -1):  \n",
        "    print(end=\" \")  \n",
        "  k = k + 1   \n",
        "  for j in range(0, i + 1):  \n",
        "    print(\"*\", end=\" \")\n",
        "  print(\"\")  "
      ],
      "execution_count": null,
      "outputs": []
    },
    {
      "cell_type": "markdown",
      "metadata": {
        "id": "UIaezWpTvRR4"
      },
      "source": [
        "**10**"
      ]
    },
    {
      "cell_type": "code",
      "metadata": {
        "id": "OtPze2EuvPww"
      },
      "source": [
        "n = int(input()) \n",
        "k = 2 * n - 2  \n",
        "for i in range(0,n):   \n",
        "  for j in range(0,k):  \n",
        "    print(end=\" \")  \n",
        "  k = k-1   \n",
        "  for j in range(0, i + 1):  \n",
        "    print(\"*\", end=\" \")\n",
        "  print(\"\")  "
      ],
      "execution_count": null,
      "outputs": []
    },
    {
      "cell_type": "markdown",
      "metadata": {
        "id": "B4szxDWmekip"
      },
      "source": [
        "**11**"
      ]
    },
    {
      "cell_type": "code",
      "metadata": {
        "id": "lpA3iqFSem8Z"
      },
      "source": [
        "n = int(input())\n",
        "for i in range(0,n):\n",
        "    for j in range(0,i):\n",
        "        print(\"*\",end=\" \")\n",
        "    print()\n",
        "print()\n",
        "for i in range(n,0,-1):\n",
        "  for j in range(i-1):\n",
        "    print(\"*\",end=\" \")\n",
        "  print()\n",
        "\n"
      ],
      "execution_count": null,
      "outputs": []
    },
    {
      "cell_type": "markdown",
      "metadata": {
        "id": "SXwpMti7icrT"
      },
      "source": [
        "**12**"
      ]
    },
    {
      "cell_type": "code",
      "metadata": {
        "id": "2o_JZDVxid9h"
      },
      "source": [
        "n = int(input())\n",
        "for i in range(0,n):\n",
        "    for j in range(0,i):\n",
        "        print(\"*\",end=\" \")\n",
        "    print()\n",
        "for i in range(n,1,-1):\n",
        "  for j in range(1,i-1):\n",
        "    print(\"*\",end=\" \")\n",
        "  print()\n",
        "    "
      ],
      "execution_count": null,
      "outputs": []
    },
    {
      "cell_type": "markdown",
      "metadata": {
        "id": "karwh0iSmrqC"
      },
      "source": [
        "**13**"
      ]
    },
    {
      "cell_type": "code",
      "metadata": {
        "id": "c9a7AqOSmb7n"
      },
      "source": [
        "rows = 5\n",
        "for i in range(0, rows):\n",
        "    for j in range(n-i):\n",
        "      print(\" \", end=' ')\n",
        "    for j in range(0,i):\n",
        "      print(\"*\", end=\" \")\n",
        "    print(\"\")\n",
        "\n",
        "for i in range(rows, 0, -1):\n",
        "    for j in range(n-i):\n",
        "      print(\" \", end=' ')\n",
        "    for j in range(0,i):\n",
        "      print(\"*\", end=' ')\n",
        "    print(\"\")"
      ],
      "execution_count": null,
      "outputs": []
    },
    {
      "cell_type": "markdown",
      "metadata": {
        "id": "K0MLf8OOpyYY"
      },
      "source": [
        "**14**"
      ]
    },
    {
      "cell_type": "code",
      "metadata": {
        "id": "5ob1xVW2vXxk"
      },
      "source": [
        "n = int(input()) \n",
        "k = 2 * n - 2  \n",
        "for i in range(n, -1, -1):   \n",
        "  for j in range(k, 0, -1):  \n",
        "    print(end=\" \")  \n",
        "  k = k + 1   \n",
        "  for j in range(0, i + 1):  \n",
        "    print(\"*\", end=\" \")\n",
        "  print(\"\")\n",
        "for i in range(0,n):   \n",
        "  for j in range(1,k):  \n",
        "    print(end=\" \")  \n",
        "  k = k-1   \n",
        "  for j in range(0, i + 1):  \n",
        "    print(\"*\", end=\" \")\n",
        "  print(\"\")  \n",
        "\n"
      ],
      "execution_count": null,
      "outputs": []
    },
    {
      "cell_type": "markdown",
      "metadata": {
        "id": "5QQbD0Z7vauP"
      },
      "source": [
        "**15**"
      ]
    },
    {
      "cell_type": "code",
      "metadata": {
        "id": "VNCvHDc2vc9d"
      },
      "source": [
        "n = int(input())\n",
        "print(\"*\"*n, end=\"\\n\")\n",
        "i = (n//2) - 1\n",
        "j = 2\n",
        "while i != 0:\n",
        "  while j <= (n-2):\n",
        "    print(\"*\"*i, end=\"\")\n",
        "    print(\"_\"*j, end=\"\")\n",
        "    print(\"*\"*i, end=\"\\n\")\n",
        "    i = i - 1\n",
        "    j = j + 2"
      ],
      "execution_count": null,
      "outputs": []
    }
  ]
}