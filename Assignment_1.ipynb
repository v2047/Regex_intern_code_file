{
  "nbformat": 4,
  "nbformat_minor": 0,
  "metadata": {
    "colab": {
      "name": "Assignment 1",
      "provenance": [],
      "authorship_tag": "ABX9TyN7nfVxV6RsolrhGTteizoH",
      "include_colab_link": true
    },
    "kernelspec": {
      "name": "python3",
      "display_name": "Python 3"
    },
    "language_info": {
      "name": "python"
    }
  },
  "cells": [
    {
      "cell_type": "markdown",
      "metadata": {
        "id": "view-in-github",
        "colab_type": "text"
      },
      "source": [
        "<a href=\"https://colab.research.google.com/github/v2047/Regex_intern_code_file/blob/main/Assignment_1.ipynb\" target=\"_parent\"><img src=\"https://colab.research.google.com/assets/colab-badge.svg\" alt=\"Open In Colab\"/></a>"
      ]
    },
    {
      "cell_type": "markdown",
      "metadata": {
        "id": "MyhmqEkuNMGm"
      },
      "source": [
        "**1**"
      ]
    },
    {
      "cell_type": "code",
      "metadata": {
        "id": "A6T470FTNOwf",
        "colab": {
          "base_uri": "https://localhost:8080/"
        },
        "outputId": "47917274-385b-46eb-f48c-5c3a0ce8aee0"
      },
      "source": [
        "n = int(input())\n",
        "for i in range(n,0,-1):\n",
        "    for j in range(0,i):\n",
        "        print(\"5\",end=\" \")\n",
        "    print(\" \")"
      ],
      "execution_count": 35,
      "outputs": [
        {
          "output_type": "stream",
          "text": [
            "5\n",
            "5 5 5 5 5  \n",
            "5 5 5 5  \n",
            "5 5 5  \n",
            "5 5  \n",
            "5  \n"
          ],
          "name": "stdout"
        }
      ]
    },
    {
      "cell_type": "markdown",
      "metadata": {
        "id": "2LOI2jUzcldv"
      },
      "source": [
        "**2**"
      ]
    },
    {
      "cell_type": "code",
      "metadata": {
        "colab": {
          "base_uri": "https://localhost:8080/"
        },
        "id": "KCsuCPEiblFX",
        "outputId": "0b5f3a2e-38cd-46bc-d007-dd7c40983e59"
      },
      "source": [
        "\n",
        "n = int(input())\n",
        "for i in range(n,0,-1):\n",
        "    for j in range(0,i+1):\n",
        "        print(j,end=\" \")\n",
        "    print(\" \")\n"
      ],
      "execution_count": 36,
      "outputs": [
        {
          "output_type": "stream",
          "text": [
            "5\n",
            "0 1 2 3 4 5  \n",
            "0 1 2 3 4  \n",
            "0 1 2 3  \n",
            "0 1 2  \n",
            "0 1  \n"
          ],
          "name": "stdout"
        }
      ]
    },
    {
      "cell_type": "markdown",
      "metadata": {
        "id": "EPT6RHclgkig"
      },
      "source": [
        "**3**"
      ]
    },
    {
      "cell_type": "code",
      "metadata": {
        "colab": {
          "base_uri": "https://localhost:8080/"
        },
        "id": "FJtjjUk4gq2K",
        "outputId": "35b073a2-c3de-4894-91bf-4472eea8243f"
      },
      "source": [
        "n = int(input())\n",
        "i =1\n",
        "while i<=n:\n",
        "  j=1\n",
        "  while j<=i:\n",
        "    print((i*2)-1,end=\"\")\n",
        "    j = j+1\n",
        "  i = i+1\n",
        "  print()\n",
        "\n",
        "\n",
        "\n"
      ],
      "execution_count": 37,
      "outputs": [
        {
          "output_type": "stream",
          "text": [
            "5\n",
            "1\n",
            "33\n",
            "555\n",
            "7777\n",
            "99999\n"
          ],
          "name": "stdout"
        }
      ]
    },
    {
      "cell_type": "markdown",
      "metadata": {
        "id": "5P6tKQEfkBcn"
      },
      "source": [
        "**4**"
      ]
    },
    {
      "cell_type": "code",
      "metadata": {
        "colab": {
          "base_uri": "https://localhost:8080/"
        },
        "id": "FcwlA22ukE4E",
        "outputId": "e3e9bdb3-f817-4d20-99b8-421a871b18c8"
      },
      "source": [
        "n = int(input())\n",
        "for i in range(0,n):\n",
        "  for j in range(i+1,0,-1):\n",
        "    print(j, end=\" \")\n",
        "  print(\"\")"
      ],
      "execution_count": 38,
      "outputs": [
        {
          "output_type": "stream",
          "text": [
            "5\n",
            "1 \n",
            "2 1 \n",
            "3 2 1 \n",
            "4 3 2 1 \n",
            "5 4 3 2 1 \n"
          ],
          "name": "stdout"
        }
      ]
    },
    {
      "cell_type": "markdown",
      "metadata": {
        "id": "fNvwYxQLaMRh"
      },
      "source": [
        "**5**"
      ]
    },
    {
      "cell_type": "code",
      "metadata": {
        "id": "dnqYRQhGaN-v",
        "colab": {
          "base_uri": "https://localhost:8080/"
        },
        "outputId": "2fd13a06-c066-427a-f542-1c7e4855f201"
      },
      "source": [
        "n = int(input())\n",
        "a = 0\n",
        "for i in range (1,n+1):\n",
        "  a+=i\n",
        "  k = a\n",
        "  for j in range(i):\n",
        "    print(k,end=\" \")\n",
        "    k-=1\n",
        "  print()\n"
      ],
      "execution_count": 39,
      "outputs": [
        {
          "output_type": "stream",
          "text": [
            "4\n",
            "1 \n",
            "3 2 \n",
            "6 5 4 \n",
            "10 9 8 7 \n"
          ],
          "name": "stdout"
        }
      ]
    },
    {
      "cell_type": "markdown",
      "metadata": {
        "id": "yEYSbqg-c9yS"
      },
      "source": [
        "**6**"
      ]
    },
    {
      "cell_type": "code",
      "metadata": {
        "colab": {
          "base_uri": "https://localhost:8080/"
        },
        "id": "BA4FCPWpdETm",
        "outputId": "cfe9900b-d34a-4235-ecb7-661facbeae6f"
      },
      "source": [
        "n = int(input())\n",
        "for i in range(n):\n",
        "    print(' '*(n-i), end=' ')\n",
        "    print(' '.join(map(str, str(11**i))))"
      ],
      "execution_count": 40,
      "outputs": [
        {
          "output_type": "stream",
          "text": [
            "7\n",
            "        1\n",
            "       1 1\n",
            "      1 2 1\n",
            "     1 3 3 1\n",
            "    1 4 6 4 1\n",
            "   1 6 1 0 5 1\n",
            "  1 7 7 1 5 6 1\n"
          ],
          "name": "stdout"
        }
      ]
    },
    {
      "cell_type": "markdown",
      "metadata": {
        "id": "__jGTQPfdHgf"
      },
      "source": [
        "**7**"
      ]
    },
    {
      "cell_type": "code",
      "metadata": {
        "id": "CgxPFD_jdJBd",
        "colab": {
          "base_uri": "https://localhost:8080/"
        },
        "outputId": "4e787c97-82f7-4de0-a966-c9f734db1c55"
      },
      "source": [
        "n = int(input())\n",
        "for i in range(0,n):\n",
        "  k=1\n",
        "  for j in range(1,n):\n",
        "    if j <= i:\n",
        "      print(i, end=' ')\n",
        "    else:\n",
        "        print(j, end=' ')\n",
        "  print()\n",
        "\n",
        "\n",
        "\n",
        "   "
      ],
      "execution_count": 41,
      "outputs": [
        {
          "output_type": "stream",
          "text": [
            "6\n",
            "1 2 3 4 5 \n",
            "1 2 3 4 5 \n",
            "2 2 3 4 5 \n",
            "3 3 3 4 5 \n",
            "4 4 4 4 5 \n",
            "5 5 5 5 5 \n"
          ],
          "name": "stdout"
        }
      ]
    },
    {
      "cell_type": "markdown",
      "metadata": {
        "id": "rAVG-y9wab3X"
      },
      "source": [
        "**8**"
      ]
    },
    {
      "cell_type": "code",
      "metadata": {
        "id": "0HJQKY4gadl9",
        "colab": {
          "base_uri": "https://localhost:8080/"
        },
        "outputId": "9cbcb6c2-ee16-4b49-cc85-640fb494c164"
      },
      "source": [
        "n = int(input())\n",
        "for i in range(1,n):\n",
        "  for j in range(1,i+1):\n",
        "    print(i * j, end=\" \")\n",
        "  print()"
      ],
      "execution_count": 42,
      "outputs": [
        {
          "output_type": "stream",
          "text": [
            "9\n",
            "1 \n",
            "2 4 \n",
            "3 6 9 \n",
            "4 8 12 16 \n",
            "5 10 15 20 25 \n",
            "6 12 18 24 30 36 \n",
            "7 14 21 28 35 42 49 \n",
            "8 16 24 32 40 48 56 64 \n"
          ],
          "name": "stdout"
        }
      ]
    },
    {
      "cell_type": "markdown",
      "metadata": {
        "id": "wfeLhb7EcScg"
      },
      "source": [
        "**9**"
      ]
    },
    {
      "cell_type": "code",
      "metadata": {
        "id": "qI-o5lWdcYrq",
        "colab": {
          "base_uri": "https://localhost:8080/"
        },
        "outputId": "2cdd7f1c-bae3-40fd-f657-f26dfca2d96c"
      },
      "source": [
        "n = int(input()) \n",
        "k = 2 * n - 2  \n",
        "for i in range(n, -1, -1):   \n",
        "  for j in range(k, 0, -1):  \n",
        "    print(end=\" \")  \n",
        "  k = k + 1   \n",
        "  for j in range(0, i + 1):  \n",
        "    print(\"*\", end=\" \")\n",
        "  print(\"\")  "
      ],
      "execution_count": 43,
      "outputs": [
        {
          "output_type": "stream",
          "text": [
            "5\n",
            "        * * * * * * \n",
            "         * * * * * \n",
            "          * * * * \n",
            "           * * * \n",
            "            * * \n",
            "             * \n"
          ],
          "name": "stdout"
        }
      ]
    },
    {
      "cell_type": "markdown",
      "metadata": {
        "id": "UIaezWpTvRR4"
      },
      "source": [
        "**10**"
      ]
    },
    {
      "cell_type": "code",
      "metadata": {
        "id": "OtPze2EuvPww",
        "colab": {
          "base_uri": "https://localhost:8080/"
        },
        "outputId": "a083c2cd-5d53-49cc-8f26-882b82289848"
      },
      "source": [
        "n = int(input()) \n",
        "k = 2 * n - 2  \n",
        "for i in range(0,n):   \n",
        "  for j in range(0,k):  \n",
        "    print(end=\" \")  \n",
        "  k = k-1   \n",
        "  for j in range(0, i + 1):  \n",
        "    print(\"*\", end=\" \")\n",
        "  print(\" \")  "
      ],
      "execution_count": 44,
      "outputs": [
        {
          "output_type": "stream",
          "text": [
            "8\n",
            "              *  \n",
            "             * *  \n",
            "            * * *  \n",
            "           * * * *  \n",
            "          * * * * *  \n",
            "         * * * * * *  \n",
            "        * * * * * * *  \n",
            "       * * * * * * * *  \n"
          ],
          "name": "stdout"
        }
      ]
    },
    {
      "cell_type": "markdown",
      "metadata": {
        "id": "B4szxDWmekip"
      },
      "source": [
        "**11**"
      ]
    },
    {
      "cell_type": "code",
      "metadata": {
        "id": "lpA3iqFSem8Z",
        "colab": {
          "base_uri": "https://localhost:8080/"
        },
        "outputId": "4e40cd25-2165-4b57-9ece-af78bd153358"
      },
      "source": [
        "n = int(input())\n",
        "for i in range(0,n):\n",
        "    for j in range(0,i):\n",
        "        print(\"*\",end=\" \")\n",
        "    print()\n",
        "print()\n",
        "for i in range(n,0,-1):\n",
        "  for j in range(i-1):\n",
        "    print(\"*\",end=\" \")\n",
        "  print()\n",
        "\n"
      ],
      "execution_count": 45,
      "outputs": [
        {
          "output_type": "stream",
          "text": [
            "7\n",
            "\n",
            "* \n",
            "* * \n",
            "* * * \n",
            "* * * * \n",
            "* * * * * \n",
            "* * * * * * \n",
            "\n",
            "* * * * * * \n",
            "* * * * * \n",
            "* * * * \n",
            "* * * \n",
            "* * \n",
            "* \n",
            "\n"
          ],
          "name": "stdout"
        }
      ]
    },
    {
      "cell_type": "markdown",
      "metadata": {
        "id": "SXwpMti7icrT"
      },
      "source": [
        "**12**"
      ]
    },
    {
      "cell_type": "code",
      "metadata": {
        "id": "2o_JZDVxid9h",
        "colab": {
          "base_uri": "https://localhost:8080/"
        },
        "outputId": "1d9cc89f-11b4-42aa-b04e-63dac4404531"
      },
      "source": [
        "n = int(input())\n",
        "for i in range(0,n):\n",
        "    for j in range(0,i):\n",
        "        print(\"*\",end=\" \")\n",
        "    print()\n",
        "for i in range(n,1,-1):\n",
        "  for j in range(1,i-1):\n",
        "    print(\"*\",end=\" \")\n",
        "  print()\n",
        "    "
      ],
      "execution_count": 46,
      "outputs": [
        {
          "output_type": "stream",
          "text": [
            "6\n",
            "\n",
            "* \n",
            "* * \n",
            "* * * \n",
            "* * * * \n",
            "* * * * * \n",
            "* * * * \n",
            "* * * \n",
            "* * \n",
            "* \n",
            "\n"
          ],
          "name": "stdout"
        }
      ]
    },
    {
      "cell_type": "markdown",
      "metadata": {
        "id": "karwh0iSmrqC"
      },
      "source": [
        "**13**"
      ]
    },
    {
      "cell_type": "code",
      "metadata": {
        "id": "c9a7AqOSmb7n",
        "colab": {
          "base_uri": "https://localhost:8080/"
        },
        "outputId": "2eb4a084-0fce-4911-ffe0-66a6a9167f23"
      },
      "source": [
        "n = int(input())\n",
        "for i in range(0, n):\n",
        "    for j in range(n-i):\n",
        "      print(\" \", end=' ')\n",
        "    for j in range(0,i):\n",
        "      print(\"*\", end=\" \")\n",
        "    print(\"\")\n",
        "\n",
        "for i in range(n, 0, -1):\n",
        "    for j in range(n-i):\n",
        "      print(\" \", end=' ')\n",
        "    for j in range(0,i):\n",
        "      print(\"*\", end=' ')\n",
        "    print(\"\")"
      ],
      "execution_count": 47,
      "outputs": [
        {
          "output_type": "stream",
          "text": [
            "5\n",
            "          \n",
            "        * \n",
            "      * * \n",
            "    * * * \n",
            "  * * * * \n",
            "* * * * * \n",
            "  * * * * \n",
            "    * * * \n",
            "      * * \n",
            "        * \n"
          ],
          "name": "stdout"
        }
      ]
    },
    {
      "cell_type": "markdown",
      "metadata": {
        "id": "K0MLf8OOpyYY"
      },
      "source": [
        "**14**"
      ]
    },
    {
      "cell_type": "code",
      "metadata": {
        "id": "5ob1xVW2vXxk",
        "colab": {
          "base_uri": "https://localhost:8080/"
        },
        "outputId": "84eccabb-203d-46ae-f5fa-4e97fddc692f"
      },
      "source": [
        "n = int(input()) \n",
        "k = 2 * n - 2  \n",
        "for i in range(n, -1, -1):   \n",
        "  for j in range(k, 0, -1):  \n",
        "    print(end=\" \")  \n",
        "  k = k + 1   \n",
        "  for j in range(0, i + 1):  \n",
        "    print(\"*\", end=\" \")\n",
        "  print(\"\")\n",
        "for i in range(0,n):   \n",
        "  for j in range(1,k):  \n",
        "    print(end=\" \")  \n",
        "  k = k-1   \n",
        "  for j in range(0, i + 1):  \n",
        "    print(\"*\", end=\" \")\n",
        "  print(\"\")  \n",
        "\n"
      ],
      "execution_count": 48,
      "outputs": [
        {
          "output_type": "stream",
          "text": [
            "7\n",
            "            * * * * * * * * \n",
            "             * * * * * * * \n",
            "              * * * * * * \n",
            "               * * * * * \n",
            "                * * * * \n",
            "                 * * * \n",
            "                  * * \n",
            "                   * \n",
            "                   * \n",
            "                  * * \n",
            "                 * * * \n",
            "                * * * * \n",
            "               * * * * * \n",
            "              * * * * * * \n",
            "             * * * * * * * \n"
          ],
          "name": "stdout"
        }
      ]
    },
    {
      "cell_type": "markdown",
      "metadata": {
        "id": "5QQbD0Z7vauP"
      },
      "source": [
        "**15**"
      ]
    },
    {
      "cell_type": "code",
      "metadata": {
        "id": "VNCvHDc2vc9d",
        "colab": {
          "base_uri": "https://localhost:8080/"
        },
        "outputId": "ccd7ccd3-80d6-4ab7-8843-a9d7b53538f6"
      },
      "source": [
        "n = int(input())\n",
        "print(\"*\"*n, end=\"\\n\")\n",
        "i = (n//2) - 1\n",
        "j = 2\n",
        "while i != 0:\n",
        "  while j <= (n-2):\n",
        "    print(\"*\"*i, end=\"\")\n",
        "    print(\"_\"*j, end=\"\")\n",
        "    print(\"*\"*i, end=\"\\n\")\n",
        "    i = i - 1\n",
        "    j = j + 2"
      ],
      "execution_count": 49,
      "outputs": [
        {
          "output_type": "stream",
          "text": [
            "16\n",
            "****************\n",
            "*******__*******\n",
            "******____******\n",
            "*****______*****\n",
            "****________****\n",
            "***__________***\n",
            "**____________**\n",
            "*______________*\n"
          ],
          "name": "stdout"
        }
      ]
    }
  ]
}