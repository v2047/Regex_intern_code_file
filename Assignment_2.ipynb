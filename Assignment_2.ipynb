{
  "nbformat": 4,
  "nbformat_minor": 0,
  "metadata": {
    "colab": {
      "name": "Assignment 2",
      "provenance": [],
      "authorship_tag": "ABX9TyN9Uub6gzwM/YC7DwyzLjjR",
      "include_colab_link": true
    },
    "kernelspec": {
      "name": "python3",
      "display_name": "Python 3"
    },
    "language_info": {
      "name": "python"
    }
  },
  "cells": [
    {
      "cell_type": "markdown",
      "metadata": {
        "id": "view-in-github",
        "colab_type": "text"
      },
      "source": [
        "<a href=\"https://colab.research.google.com/github/v2047/Regex_intern_code_file/blob/main/Assignment_2.ipynb\" target=\"_parent\"><img src=\"https://colab.research.google.com/assets/colab-badge.svg\" alt=\"Open In Colab\"/></a>"
      ]
    },
    {
      "cell_type": "markdown",
      "metadata": {
        "id": "hzGGXVbX484B"
      },
      "source": [
        "**Q1 Write a lambda expression to extract first word of a string.**"
      ]
    },
    {
      "cell_type": "code",
      "metadata": {
        "colab": {
          "base_uri": "https://localhost:8080/",
          "height": 52
        },
        "id": "UkhT9Mi95FbE",
        "outputId": "610f1f0f-3a59-43eb-fccc-a6c2b1315277"
      },
      "source": [
        "c = input(\"Enter the string \")\n",
        "a = lambda c:c.split()[0]\n",
        "a(c)"
      ],
      "execution_count": null,
      "outputs": [
        {
          "output_type": "stream",
          "text": [
            "Enter the string hello world\n"
          ],
          "name": "stdout"
        },
        {
          "output_type": "execute_result",
          "data": {
            "application/vnd.google.colaboratory.intrinsic+json": {
              "type": "string"
            },
            "text/plain": [
              "'hello'"
            ]
          },
          "metadata": {
            "tags": []
          },
          "execution_count": 26
        }
      ]
    },
    {
      "cell_type": "markdown",
      "metadata": {
        "id": "6yZKg5987JAw"
      },
      "source": [
        "**2 Write a function to extract first word of s string (with many words separated by space)**"
      ]
    },
    {
      "cell_type": "code",
      "metadata": {
        "colab": {
          "base_uri": "https://localhost:8080/"
        },
        "id": "JlbkL3ZO7YAk",
        "outputId": "00ea48cb-a89c-43e6-fa33-74c91e707035"
      },
      "source": [
        "def printWords(strr):\n",
        "    word = strr.split(\" \")[0]\n",
        "    print(word)\n",
        " \n",
        "s = input(\"Enter the string \")\n",
        "printWords(s)"
      ],
      "execution_count": null,
      "outputs": [
        {
          "output_type": "stream",
          "text": [
            "Enter the string Hello Vanshika Tomar\n",
            "Hello\n"
          ],
          "name": "stdout"
        }
      ]
    },
    {
      "cell_type": "markdown",
      "metadata": {
        "id": "eUDMkRQW8Wzu"
      },
      "source": [
        "**Q3. Extract the first word from every string from a list of strings by using map function.**"
      ]
    },
    {
      "cell_type": "code",
      "metadata": {
        "colab": {
          "base_uri": "https://localhost:8080/"
        },
        "id": "XWBCh_w18cBn",
        "outputId": "2184bdd2-6032-4914-ee88-8a0b0c69d188"
      },
      "source": [
        "A = ['dhruv is a boy', 'Today is very hot']\n",
        "b = lambda c:c.split()[0]\n",
        "c = list(map(b,A))\n",
        "print(c)\n"
      ],
      "execution_count": null,
      "outputs": [
        {
          "output_type": "stream",
          "text": [
            "['dhruv', 'Today']\n"
          ],
          "name": "stdout"
        }
      ]
    },
    {
      "cell_type": "markdown",
      "metadata": {
        "id": "mlIWWxcw_X_j"
      },
      "source": [
        "**Q4. Write a function to return a list of prime factors of a given number.**\n"
      ]
    },
    {
      "cell_type": "code",
      "metadata": {
        "colab": {
          "base_uri": "https://localhost:8080/"
        },
        "id": "C555Z69q_lcG",
        "outputId": "24a9a04d-03ae-4e3d-bf0f-1e9a684cde22"
      },
      "source": [
        "def primefactors(x):\n",
        "    factor=[]\n",
        "    loop=2\n",
        "    while loop<=x:\n",
        "        if x%loop==0:\n",
        "            x//=loop\n",
        "            factor.append(loop)\n",
        "        else:\n",
        "            loop+=1\n",
        "    return factor\n",
        "\n",
        "x = int(input())\n",
        "alist=primefactors(x)\n",
        "print(alist)"
      ],
      "execution_count": null,
      "outputs": [
        {
          "output_type": "stream",
          "text": [
            "10\n",
            "[2, 5]\n"
          ],
          "name": "stdout"
        }
      ]
    },
    {
      "cell_type": "markdown",
      "metadata": {
        "id": "MJb2_RMpA2Uv"
      },
      "source": [
        "**Q5.Write a function that finds 2nd largest among 4 numbers (Repetitions are allowed,  without sorting).**"
      ]
    },
    {
      "cell_type": "code",
      "metadata": {
        "colab": {
          "base_uri": "https://localhost:8080/"
        },
        "id": "zaYWYVidA9os",
        "outputId": "5ed5c3dc-c11d-4b50-816a-2db0fd05d21d"
      },
      "source": [
        "list1 = [10, 20, 4, 45, 99]\n",
        "new_list = set(list1)\n",
        "new_list.remove(max(new_list))\n",
        "print(max(new_list))"
      ],
      "execution_count": null,
      "outputs": [
        {
          "output_type": "stream",
          "text": [
            "45\n"
          ],
          "name": "stdout"
        }
      ]
    }
  ]
}